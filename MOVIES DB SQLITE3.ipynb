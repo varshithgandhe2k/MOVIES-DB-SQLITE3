{
 "cells": [
  {
   "cell_type": "code",
   "execution_count": 2,
   "metadata": {},
   "outputs": [],
   "source": [
    "import sqlite3 "
   ]
  },
  {
   "cell_type": "code",
   "execution_count": 3,
   "metadata": {},
   "outputs": [
    {
     "name": "stdout",
     "output_type": "stream",
     "text": [
      "Opened database successfully\n"
     ]
    }
   ],
   "source": [
    "conn = sqlite3.connect('movies_db.db')\n",
    "\n",
    "print(\"Opened database successfully\")"
   ]
  },
  {
   "cell_type": "code",
   "execution_count": 4,
   "metadata": {},
   "outputs": [
    {
     "name": "stdout",
     "output_type": "stream",
     "text": [
      "Table created successfully\n"
     ]
    }
   ],
   "source": [
    "conn.execute('''CREATE TABLE MOVIES_DB\n",
    "         (\n",
    "         MOVIE_NAME           CHAR(50)    NOT NULL,\n",
    "         ACTOR           CHAR(50)    NOT NULL,\n",
    "         ACTRESS        CHAR(50) NOT NULL,\n",
    "         RELEASE_DATE  TEXT NOT NULL      ,\n",
    "         DIRECTOR CHAR(50) NOT NULL);''')\n",
    "print(\"Table created successfully\")"
   ]
  },
  {
   "cell_type": "code",
   "execution_count": 5,
   "metadata": {},
   "outputs": [],
   "source": [
    "conn.execute(\"INSERT INTO MOVIES_DB (MoVIE_NAME,ACTOR,ACTRESS,RELEASE_DATE,DIRECTOR) \\\n",
    "      VALUES ('BAHUBALI', 'PRABHAS', 'ANUSHKA', '20-06-2018', 'RAJAMOULI' )\");"
   ]
  },
  {
   "cell_type": "code",
   "execution_count": 6,
   "metadata": {},
   "outputs": [],
   "source": [
    "conn.execute(\"INSERT INTO MOVIES_DB (MoVIE_NAME,ACTOR,ACTRESS,RELEASE_DATE,DIRECTOR) \\\n",
    "      VALUES ('RRR', 'NTR', 'ALIA', '20-04-2022', 'RAJAMOULI' )\");"
   ]
  },
  {
   "cell_type": "code",
   "execution_count": 7,
   "metadata": {},
   "outputs": [],
   "source": [
    "conn.execute(\"INSERT INTO MOVIES_DB (MoVIE_NAME,ACTOR,ACTRESS,RELEASE_DATE,DIRECTOR) \\\n",
    "      VALUES ('PUSHPA', 'ARJUN', 'RASHMIKA', '12-02-2022', 'TRIVIKRAM' )\");"
   ]
  },
  {
   "cell_type": "code",
   "execution_count": 8,
   "metadata": {},
   "outputs": [],
   "source": [
    "conn.execute(\"INSERT INTO MOVIES_DB (MoVIE_NAME,ACTOR,ACTRESS,RELEASE_DATE,DIRECTOR) \\\n",
    "      VALUES ('SRI', 'MAHESH', 'RAKUL', '13-10-2018', 'TRIVIKRAM' )\");"
   ]
  },
  {
   "cell_type": "code",
   "execution_count": 9,
   "metadata": {},
   "outputs": [],
   "source": [
    "conn.execute(\"INSERT INTO MOVIES_DB (MoVIE_NAME,ACTOR,ACTRESS,RELEASE_DATE,DIRECTOR) \\\n",
    "      VALUES ('KGF', 'REVANTH', 'NIVETHA', '11-02-2022', 'SRAVAN' )\");"
   ]
  },
  {
   "cell_type": "code",
   "execution_count": 10,
   "metadata": {},
   "outputs": [
    {
     "name": "stdout",
     "output_type": "stream",
     "text": [
      "Records created successfully\n"
     ]
    }
   ],
   "source": [
    "conn.commit()\n",
    "print(\"Records created successfully\")"
   ]
  },
  {
   "cell_type": "code",
   "execution_count": 11,
   "metadata": {},
   "outputs": [
    {
     "name": "stdout",
     "output_type": "stream",
     "text": [
      "MOVIE_NAME =  BAHUBALI\n",
      "ACTOR =  PRABHAS\n",
      "ACTRESS =  ANUSHKA\n",
      "RELEASE_DATE =  20-06-2018\n",
      "DIRECTOR=  RAJAMOULI \n",
      "\n",
      "MOVIE_NAME =  RRR\n",
      "ACTOR =  NTR\n",
      "ACTRESS =  ALIA\n",
      "RELEASE_DATE =  20-04-2022\n",
      "DIRECTOR=  RAJAMOULI \n",
      "\n",
      "MOVIE_NAME =  PUSHPA\n",
      "ACTOR =  ARJUN\n",
      "ACTRESS =  RASHMIKA\n",
      "RELEASE_DATE =  12-02-2022\n",
      "DIRECTOR=  TRIVIKRAM \n",
      "\n",
      "MOVIE_NAME =  SRI\n",
      "ACTOR =  MAHESH\n",
      "ACTRESS =  RAKUL\n",
      "RELEASE_DATE =  13-10-2018\n",
      "DIRECTOR=  TRIVIKRAM \n",
      "\n",
      "MOVIE_NAME =  KGF\n",
      "ACTOR =  REVANTH\n",
      "ACTRESS =  NIVETHA\n",
      "RELEASE_DATE =  11-02-2022\n",
      "DIRECTOR=  SRAVAN \n",
      "\n",
      "Operation done successfully\n"
     ]
    }
   ],
   "source": [
    "cursor = conn.execute(\"SELECT MOVIE_NAME, ACTOR, ACTRESS, RELEASE_DATE, DIRECTOR from MOVIES_DB\")\n",
    "for row in cursor:\n",
    "   print (\"MOVIE_NAME = \", row[0])\n",
    "   print (\"ACTOR = \", row[1])\n",
    "   print (\"ACTRESS = \", row[2])\n",
    "   print (\"RELEASE_DATE = \", row[3])\n",
    "   print (\"DIRECTOR= \", row[4] , \"\\n\")\n",
    "\n",
    "print( \"Operation done successfully\")"
   ]
  }
 ],
 "metadata": {
  "kernelspec": {
   "display_name": "Python 3",
   "language": "python",
   "name": "python3"
  },
  "language_info": {
   "codemirror_mode": {
    "name": "ipython",
    "version": 3
   },
   "file_extension": ".py",
   "mimetype": "text/x-python",
   "name": "python",
   "nbconvert_exporter": "python",
   "pygments_lexer": "ipython3",
   "version": "3.8.5"
  }
 },
 "nbformat": 4,
 "nbformat_minor": 4
}
